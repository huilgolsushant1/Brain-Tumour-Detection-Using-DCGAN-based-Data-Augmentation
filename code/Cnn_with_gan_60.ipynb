{
  "nbformat": 4,
  "nbformat_minor": 0,
  "metadata": {
    "colab": {
      "name": "Cnn_with_gan_57.ipynb",
      "provenance": [],
      "collapsed_sections": [],
      "toc_visible": true
    },
    "kernelspec": {
      "name": "python3",
      "display_name": "Python 3"
    },
    "accelerator": "GPU"
  },
  "cells": [
    {
      "cell_type": "code",
      "metadata": {
        "id": "EQdkjmvNZ6z9",
        "colab_type": "code",
        "outputId": "3b33a733-656f-43b7-afae-65acedb15e15",
        "colab": {
          "base_uri": "https://localhost:8080/",
          "height": 1000
        }
      },
      "source": [
        "pip install hyperas==0.4.1"
      ],
      "execution_count": 0,
      "outputs": [
        {
          "output_type": "stream",
          "text": [
            "Collecting hyperas==0.4.1\n",
            "  Downloading https://files.pythonhosted.org/packages/04/34/87ad6ffb42df9c1fa9c4c906f65813d42ad70d68c66af4ffff048c228cd4/hyperas-0.4.1-py3-none-any.whl\n",
            "Requirement already satisfied: keras in /usr/local/lib/python3.6/dist-packages (from hyperas==0.4.1) (2.3.1)\n",
            "Requirement already satisfied: nbformat in /usr/local/lib/python3.6/dist-packages (from hyperas==0.4.1) (5.0.5)\n",
            "Requirement already satisfied: hyperopt in /usr/local/lib/python3.6/dist-packages (from hyperas==0.4.1) (0.1.2)\n",
            "Requirement already satisfied: entrypoints in /usr/local/lib/python3.6/dist-packages (from hyperas==0.4.1) (0.3)\n",
            "Requirement already satisfied: jupyter in /usr/local/lib/python3.6/dist-packages (from hyperas==0.4.1) (1.0.0)\n",
            "Requirement already satisfied: nbconvert in /usr/local/lib/python3.6/dist-packages (from hyperas==0.4.1) (5.6.1)\n",
            "Requirement already satisfied: pyyaml in /usr/local/lib/python3.6/dist-packages (from keras->hyperas==0.4.1) (3.13)\n",
            "Requirement already satisfied: keras-applications>=1.0.6 in /usr/local/lib/python3.6/dist-packages (from keras->hyperas==0.4.1) (1.0.8)\n",
            "Requirement already satisfied: numpy>=1.9.1 in /usr/local/lib/python3.6/dist-packages (from keras->hyperas==0.4.1) (1.18.2)\n",
            "Requirement already satisfied: scipy>=0.14 in /usr/local/lib/python3.6/dist-packages (from keras->hyperas==0.4.1) (1.4.1)\n",
            "Requirement already satisfied: keras-preprocessing>=1.0.5 in /usr/local/lib/python3.6/dist-packages (from keras->hyperas==0.4.1) (1.1.0)\n",
            "Requirement already satisfied: six>=1.9.0 in /usr/local/lib/python3.6/dist-packages (from keras->hyperas==0.4.1) (1.12.0)\n",
            "Requirement already satisfied: h5py in /usr/local/lib/python3.6/dist-packages (from keras->hyperas==0.4.1) (2.10.0)\n",
            "Requirement already satisfied: jupyter-core in /usr/local/lib/python3.6/dist-packages (from nbformat->hyperas==0.4.1) (4.6.3)\n",
            "Requirement already satisfied: ipython-genutils in /usr/local/lib/python3.6/dist-packages (from nbformat->hyperas==0.4.1) (0.2.0)\n",
            "Requirement already satisfied: jsonschema!=2.5.0,>=2.4 in /usr/local/lib/python3.6/dist-packages (from nbformat->hyperas==0.4.1) (2.6.0)\n",
            "Requirement already satisfied: traitlets>=4.1 in /usr/local/lib/python3.6/dist-packages (from nbformat->hyperas==0.4.1) (4.3.3)\n",
            "Requirement already satisfied: tqdm in /usr/local/lib/python3.6/dist-packages (from hyperopt->hyperas==0.4.1) (4.38.0)\n",
            "Requirement already satisfied: future in /usr/local/lib/python3.6/dist-packages (from hyperopt->hyperas==0.4.1) (0.16.0)\n",
            "Requirement already satisfied: networkx in /usr/local/lib/python3.6/dist-packages (from hyperopt->hyperas==0.4.1) (2.4)\n",
            "Requirement already satisfied: pymongo in /usr/local/lib/python3.6/dist-packages (from hyperopt->hyperas==0.4.1) (3.10.1)\n",
            "Requirement already satisfied: ipykernel in /usr/local/lib/python3.6/dist-packages (from jupyter->hyperas==0.4.1) (4.10.1)\n",
            "Requirement already satisfied: notebook in /usr/local/lib/python3.6/dist-packages (from jupyter->hyperas==0.4.1) (5.2.2)\n",
            "Requirement already satisfied: qtconsole in /usr/local/lib/python3.6/dist-packages (from jupyter->hyperas==0.4.1) (4.7.3)\n",
            "Requirement already satisfied: jupyter-console in /usr/local/lib/python3.6/dist-packages (from jupyter->hyperas==0.4.1) (5.2.0)\n",
            "Requirement already satisfied: ipywidgets in /usr/local/lib/python3.6/dist-packages (from jupyter->hyperas==0.4.1) (7.5.1)\n",
            "Requirement already satisfied: pandocfilters>=1.4.1 in /usr/local/lib/python3.6/dist-packages (from nbconvert->hyperas==0.4.1) (1.4.2)\n",
            "Requirement already satisfied: mistune<2,>=0.8.1 in /usr/local/lib/python3.6/dist-packages (from nbconvert->hyperas==0.4.1) (0.8.4)\n",
            "Requirement already satisfied: defusedxml in /usr/local/lib/python3.6/dist-packages (from nbconvert->hyperas==0.4.1) (0.6.0)\n",
            "Requirement already satisfied: jinja2>=2.4 in /usr/local/lib/python3.6/dist-packages (from nbconvert->hyperas==0.4.1) (2.11.2)\n",
            "Requirement already satisfied: testpath in /usr/local/lib/python3.6/dist-packages (from nbconvert->hyperas==0.4.1) (0.4.4)\n",
            "Requirement already satisfied: pygments in /usr/local/lib/python3.6/dist-packages (from nbconvert->hyperas==0.4.1) (2.1.3)\n",
            "Requirement already satisfied: bleach in /usr/local/lib/python3.6/dist-packages (from nbconvert->hyperas==0.4.1) (3.1.4)\n",
            "Requirement already satisfied: decorator in /usr/local/lib/python3.6/dist-packages (from traitlets>=4.1->nbformat->hyperas==0.4.1) (4.4.2)\n",
            "Requirement already satisfied: ipython>=4.0.0 in /usr/local/lib/python3.6/dist-packages (from ipykernel->jupyter->hyperas==0.4.1) (5.5.0)\n",
            "Requirement already satisfied: tornado>=4.0 in /usr/local/lib/python3.6/dist-packages (from ipykernel->jupyter->hyperas==0.4.1) (4.5.3)\n",
            "Requirement already satisfied: jupyter-client in /usr/local/lib/python3.6/dist-packages (from ipykernel->jupyter->hyperas==0.4.1) (5.3.4)\n",
            "Requirement already satisfied: terminado>=0.3.3; sys_platform != \"win32\" in /usr/local/lib/python3.6/dist-packages (from notebook->jupyter->hyperas==0.4.1) (0.8.3)\n",
            "Requirement already satisfied: pyzmq>=17.1 in /usr/local/lib/python3.6/dist-packages (from qtconsole->jupyter->hyperas==0.4.1) (19.0.0)\n",
            "Requirement already satisfied: qtpy in /usr/local/lib/python3.6/dist-packages (from qtconsole->jupyter->hyperas==0.4.1) (1.9.0)\n",
            "Requirement already satisfied: prompt-toolkit<2.0.0,>=1.0.0 in /usr/local/lib/python3.6/dist-packages (from jupyter-console->jupyter->hyperas==0.4.1) (1.0.18)\n",
            "Requirement already satisfied: widgetsnbextension~=3.5.0 in /usr/local/lib/python3.6/dist-packages (from ipywidgets->jupyter->hyperas==0.4.1) (3.5.1)\n",
            "Requirement already satisfied: MarkupSafe>=0.23 in /usr/local/lib/python3.6/dist-packages (from jinja2>=2.4->nbconvert->hyperas==0.4.1) (1.1.1)\n",
            "Requirement already satisfied: webencodings in /usr/local/lib/python3.6/dist-packages (from bleach->nbconvert->hyperas==0.4.1) (0.5.1)\n",
            "Requirement already satisfied: pickleshare in /usr/local/lib/python3.6/dist-packages (from ipython>=4.0.0->ipykernel->jupyter->hyperas==0.4.1) (0.7.5)\n",
            "Requirement already satisfied: simplegeneric>0.8 in /usr/local/lib/python3.6/dist-packages (from ipython>=4.0.0->ipykernel->jupyter->hyperas==0.4.1) (0.8.1)\n",
            "Requirement already satisfied: setuptools>=18.5 in /usr/local/lib/python3.6/dist-packages (from ipython>=4.0.0->ipykernel->jupyter->hyperas==0.4.1) (46.1.3)\n",
            "Requirement already satisfied: pexpect; sys_platform != \"win32\" in /usr/local/lib/python3.6/dist-packages (from ipython>=4.0.0->ipykernel->jupyter->hyperas==0.4.1) (4.8.0)\n",
            "Requirement already satisfied: python-dateutil>=2.1 in /usr/local/lib/python3.6/dist-packages (from jupyter-client->ipykernel->jupyter->hyperas==0.4.1) (2.8.1)\n",
            "Requirement already satisfied: ptyprocess; os_name != \"nt\" in /usr/local/lib/python3.6/dist-packages (from terminado>=0.3.3; sys_platform != \"win32\"->notebook->jupyter->hyperas==0.4.1) (0.6.0)\n",
            "Requirement already satisfied: wcwidth in /usr/local/lib/python3.6/dist-packages (from prompt-toolkit<2.0.0,>=1.0.0->jupyter-console->jupyter->hyperas==0.4.1) (0.1.9)\n",
            "Installing collected packages: hyperas\n",
            "Successfully installed hyperas-0.4.1\n"
          ],
          "name": "stdout"
        }
      ]
    },
    {
      "cell_type": "code",
      "metadata": {
        "id": "UrkrU502aLMA",
        "colab_type": "code",
        "outputId": "c23039aa-6c1b-4f68-bc2d-89bc7a9821e5",
        "colab": {
          "base_uri": "https://localhost:8080/",
          "height": 70
        }
      },
      "source": [
        "#pip install -q tf-nightly"
      ],
      "execution_count": 0,
      "outputs": [
        {
          "output_type": "stream",
          "text": [
            "\u001b[K     |████████████████████████████████| 517.9MB 29kB/s \n",
            "\u001b[K     |████████████████████████████████| 3.0MB 33.7MB/s \n",
            "\u001b[K     |████████████████████████████████| 460kB 50.7MB/s \n",
            "\u001b[?25h"
          ],
          "name": "stdout"
        }
      ]
    },
    {
      "cell_type": "code",
      "metadata": {
        "id": "0D8EOI1iC6fY",
        "colab_type": "code",
        "outputId": "964cc66e-0de3-411e-e714-91c916bddd1a",
        "colab": {
          "base_uri": "https://localhost:8080/",
          "height": 34
        }
      },
      "source": [
        "#pip install hyperas==0.4.1\n",
        "import time\n",
        "from __future__ import print_function\n",
        "from hyperopt import Trials, STATUS_OK, tpe\n",
        "from hyperas import optim\n",
        "from hyperas.distributions import choice, uniform\n",
        "\n",
        "import imutils\n",
        "import cv2\n",
        "from PIL import Image\n",
        "import PIL\n",
        "\n",
        "import os\n",
        "from os import makedirs\n",
        "from os.path import exists, join\n",
        "\n",
        "import pdb\n",
        "from tqdm import tqdm\n",
        "import matplotlib.pyplot as plt\n",
        "import matplotlib.image as mpimg\n",
        "import shutil\n",
        "import numpy as np\n",
        "\n",
        "import keras\n",
        "from keras.applications.imagenet_utils import preprocess_input\n",
        "from keras.applications.vgg16 import VGG16, preprocess_input\n",
        "from keras.applications import vgg16, inception_v3, resnet50, mobilenet\n",
        "\n",
        "from keras.models import Sequential\n",
        "from keras.layers import Conv2D, MaxPooling2D, ZeroPadding2D\n",
        "from keras.layers import Activation, Dropout, Flatten, Dense\n",
        "from keras import backend as K\n",
        "from keras.models import Model\n",
        "from keras import layers\n",
        "from keras.callbacks import EarlyStopping,ModelCheckpoint\n",
        "from keras.models import load_model\n",
        "\n",
        "\n",
        "from keras.preprocessing.image import ImageDataGenerator, array_to_img, img_to_array, load_img\n",
        "from keras.layers import merge, Input\n",
        "\n",
        "from keras.regularizers import l1,l2,l1_l2\n",
        "\n",
        "from joblib import load,dump\n",
        "from sklearn.metrics import accuracy_score, confusion_matrix\n"
      ],
      "execution_count": 0,
      "outputs": [
        {
          "output_type": "stream",
          "text": [
            "Using TensorFlow backend.\n"
          ],
          "name": "stderr"
        }
      ]
    },
    {
      "cell_type": "code",
      "metadata": {
        "id": "4mg10-Gpav3A",
        "colab_type": "code",
        "colab": {}
      },
      "source": [
        "### tensor board\n",
        "import tensorflow as tf\n",
        "from tensorboard.plugins.hparams import api as hp\n",
        "from google.protobuf import struct_pb2\n",
        "from keras.callbacks import TensorBoard\n",
        "# Load the TensorBoard notebook extension\n",
        "%load_ext tensorboard"
      ],
      "execution_count": 0,
      "outputs": []
    },
    {
      "cell_type": "code",
      "metadata": {
        "id": "TVloWCRBa6yX",
        "colab_type": "code",
        "colab": {}
      },
      "source": [
        "from sklearn.metrics import f1_score\n",
        "import sklearn.metrics as metrics"
      ],
      "execution_count": 0,
      "outputs": []
    },
    {
      "cell_type": "code",
      "metadata": {
        "id": "izwtV6aca-on",
        "colab_type": "code",
        "colab": {}
      },
      "source": [
        "train_dir = \"/content/drive/My Drive/Colab Notebooks/Dataset_Gan1/New_Train/\"\n",
        "validate_dir = \"/content/drive/My Drive/Colab Notebooks/Dataset_Gan1/New_Val/\"\n",
        "test_dir =  \"/content/drive/My Drive/Colab Notebooks/Dataset_Gan1/New_Test/\""
      ],
      "execution_count": 0,
      "outputs": []
    },
    {
      "cell_type": "code",
      "metadata": {
        "id": "hvJYqP2kbSwY",
        "colab_type": "code",
        "colab": {}
      },
      "source": [
        "def lableling_data(dir_path):\n",
        "    X = []\n",
        "    y = []\n",
        "    i = 0\n",
        "    \n",
        "    # for loop is find all files in dir_path\n",
        "    for path in (sorted(os.listdir(dir_path))):\n",
        "        if not path.startswith('.'):\n",
        "            for file in os.listdir(dir_path + path):\n",
        "                if not file.startswith('.'):\n",
        "                    img = cv2.imread(dir_path + path + '/' + file) # cv2.imread --> load image\n",
        "                    X.append(img)\n",
        "                    y.append(i)\n",
        "            i += 1\n",
        "    X = np.array(X)\n",
        "    y = np.array(y)\n",
        "    return X, y"
      ],
      "execution_count": 0,
      "outputs": []
    },
    {
      "cell_type": "code",
      "metadata": {
        "id": "CJM-A_lLbZZ_",
        "colab_type": "code",
        "outputId": "af4fd9cd-17ea-47e0-b240-7191b314b513",
        "colab": {
          "base_uri": "https://localhost:8080/",
          "height": 70
        }
      },
      "source": [
        "X_train, y_train = lableling_data(train_dir)\n",
        "X_test, y_test = lableling_data(test_dir)\n",
        "X_val, y_val = lableling_data(validate_dir)\n",
        "\n",
        "print('Train X--', X_train.shape,'y --', y_train.shape  )\n",
        "print('Test X--', X_test.shape,'y --', y_test.shape  )\n",
        "print('Validation X--', X_val.shape,'y --', y_val.shape  )"
      ],
      "execution_count": 0,
      "outputs": [
        {
          "output_type": "stream",
          "text": [
            "Train X-- (233,) y -- (233,)\n",
            "Test X-- (38, 200, 200, 3) y -- (38,)\n",
            "Validation X-- (39, 200, 200, 3) y -- (39,)\n"
          ],
          "name": "stdout"
        }
      ]
    },
    {
      "cell_type": "code",
      "metadata": {
        "id": "BH__DLoLbt51",
        "colab_type": "code",
        "outputId": "5e347325-4e9d-4948-d406-3a8dbd77590f",
        "colab": {
          "base_uri": "https://localhost:8080/",
          "height": 141
        }
      },
      "source": [
        "print(\"Total number images in Positive Train set\",len([name for name in os.listdir(train_dir+'/YES') if os.path.isfile(os.path.join(train_dir+'/YES', name))])) \n",
        "print(\"Total number images in Positive Validation set\",len([name for name in os.listdir(validate_dir+'/YES') if os.path.isfile(os.path.join(validate_dir+'/YES', name))])) \n",
        "print(\"Total number images in Positive Test set\",len([name for name in os.listdir(test_dir+'/YES') if os.path.isfile(os.path.join(test_dir+'/YES', name))])) \n",
        "\n",
        "print('=='*25)\n",
        "\n",
        "print(\"Total number images in Negative Train set\",len([name for name in os.listdir(train_dir+'/NO') if os.path.isfile(os.path.join(train_dir+'/NO', name))])) \n",
        "print(\"Total number images in Negative Validation set\",len([name for name in os.listdir(validate_dir+'/NO') if os.path.isfile(os.path.join(validate_dir+'/NO', name))])) \n",
        "print(\"Total number images in Negative Test set\",len([name for name in os.listdir(test_dir+'/NO') if os.path.isfile(os.path.join(test_dir+'/NO', name))]))"
      ],
      "execution_count": 0,
      "outputs": [
        {
          "output_type": "stream",
          "text": [
            "Total number images in Positive Train set 145\n",
            "Total number images in Positive Validation set 24\n",
            "Total number images in Positive Test set 23\n",
            "==================================================\n",
            "Total number images in Negative Train set 88\n",
            "Total number images in Negative Validation set 15\n",
            "Total number images in Negative Test set 15\n"
          ],
          "name": "stdout"
        }
      ]
    },
    {
      "cell_type": "code",
      "metadata": {
        "id": "bwrdSb_6cAwx",
        "colab_type": "code",
        "outputId": "8a2a8f9d-7ed4-4687-a299-58ab2f24d0d5",
        "colab": {
          "base_uri": "https://localhost:8080/",
          "height": 585
        }
      },
      "source": [
        "img_width, img_height = 200, 200\n",
        "\n",
        "train_dir = \"/content/drive/My Drive/Colab Notebooks/Dataset/New_Train/\"\n",
        "validate_dir = \"/content/drive/My Drive/Colab Notebooks/Dataset/New_Val/\"\n",
        "nb_train_samples = 400\n",
        "nb_validation_samples = 100\n",
        "epochs = 15\n",
        "batch_size = 16\n",
        "\n",
        "if K.image_data_format() == 'channels_first': \n",
        "\tinput_shape = (3, img_width, img_height) \n",
        "else: \n",
        "\tinput_shape = (img_width, img_height, 3) \n",
        "\n",
        "model = Sequential() \n",
        "model.add(Conv2D(32, (2, 2), input_shape = input_shape)) \n",
        "model.add(Activation('relu')) \n",
        "model.add(MaxPooling2D(pool_size =(2, 2))) \n",
        "\n",
        "model.add(Conv2D(32, (2, 2))) \n",
        "model.add(Activation('relu')) \n",
        "model.add(MaxPooling2D(pool_size =(2, 2))) \n",
        "\n",
        "model.add(Conv2D(64, (2, 2))) \n",
        "model.add(Activation('relu')) \n",
        "model.add(MaxPooling2D(pool_size =(2, 2))) \n",
        "\n",
        "model.add(Flatten()) \n",
        "model.add(Dense(64)) \n",
        "model.add(Activation('relu')) \n",
        "model.add(Dropout(0.5)) \n",
        "model.add(Dense(1)) \n",
        "model.add(Activation('sigmoid')) \n",
        "\n",
        "model.compile(loss ='binary_crossentropy', \n",
        "\t\t\t\t\toptimizer ='rmsprop', \n",
        "\t\t\t\tmetrics =['accuracy']) \n",
        "\n",
        "train_datagen = ImageDataGenerator( \n",
        "\t\t\t\trescale = 1. / 255, \n",
        "\t\t\t\tshear_range = 0.2, \n",
        "\t\t\t\tzoom_range = 0.2, \n",
        "\t\t\thorizontal_flip = True) \n",
        "\n",
        "test_datagen = ImageDataGenerator(rescale = 1. / 255) \n",
        "\n",
        "train_generator = train_datagen.flow_from_directory(train_dir, \n",
        "\t\t\t\t\t\t\ttarget_size =(img_width, img_height), \n",
        "\t\t\t\t\tbatch_size = batch_size, class_mode ='binary') \n",
        "\n",
        "validation_generator = test_datagen.flow_from_directory( \n",
        "\t\t\t\t\t\t\t\t\tvalidate_dir , \n",
        "\t\t\t\ttarget_size =(img_width, img_height), \n",
        "\t\tbatch_size = batch_size, class_mode ='binary') \n",
        "\n",
        "history=model.fit_generator(train_generator, \n",
        "\tsteps_per_epoch = nb_train_samples // batch_size, \n",
        "\tepochs = epochs, \n",
        "\tvalidation_data = validation_generator, \n",
        "\tvalidation_steps = nb_validation_samples // batch_size) \n",
        "\n"
      ],
      "execution_count": 0,
      "outputs": [
        {
          "output_type": "stream",
          "text": [
            "Found 176 images belonging to 2 classes.\n",
            "Found 39 images belonging to 2 classes.\n",
            "Epoch 1/15\n",
            "25/25 [==============================] - 151s 6s/step - loss: 0.7090 - accuracy: 0.6575 - val_loss: 0.5076 - val_accuracy: 0.6667\n",
            "Epoch 2/15\n",
            "25/25 [==============================] - 4s 171ms/step - loss: 0.6468 - accuracy: 0.6675 - val_loss: 0.5417 - val_accuracy: 0.8462\n",
            "Epoch 3/15\n",
            "25/25 [==============================] - 4s 176ms/step - loss: 0.5805 - accuracy: 0.7175 - val_loss: 0.4574 - val_accuracy: 0.8205\n",
            "Epoch 4/15\n",
            "25/25 [==============================] - 4s 177ms/step - loss: 0.5343 - accuracy: 0.7525 - val_loss: 0.4395 - val_accuracy: 0.8462\n",
            "Epoch 5/15\n",
            "25/25 [==============================] - 4s 177ms/step - loss: 0.5066 - accuracy: 0.7475 - val_loss: 0.3845 - val_accuracy: 0.7692\n",
            "Epoch 6/15\n",
            "25/25 [==============================] - 4s 176ms/step - loss: 0.4353 - accuracy: 0.8225 - val_loss: 0.6353 - val_accuracy: 0.8718\n",
            "Epoch 7/15\n",
            "25/25 [==============================] - 4s 175ms/step - loss: 0.4640 - accuracy: 0.8050 - val_loss: 0.7633 - val_accuracy: 0.6667\n",
            "Epoch 8/15\n",
            "25/25 [==============================] - 4s 174ms/step - loss: 0.3856 - accuracy: 0.8375 - val_loss: 0.2306 - val_accuracy: 0.8205\n",
            "Epoch 9/15\n",
            "25/25 [==============================] - 4s 176ms/step - loss: 0.3426 - accuracy: 0.8650 - val_loss: 0.1054 - val_accuracy: 0.8205\n",
            "Epoch 10/15\n",
            "25/25 [==============================] - 4s 172ms/step - loss: 0.3855 - accuracy: 0.8400 - val_loss: 0.9383 - val_accuracy: 0.7692\n",
            "Epoch 11/15\n",
            "25/25 [==============================] - 4s 177ms/step - loss: 0.4096 - accuracy: 0.8475 - val_loss: 0.2928 - val_accuracy: 0.7436\n",
            "Epoch 12/15\n",
            "25/25 [==============================] - 4s 176ms/step - loss: 0.3358 - accuracy: 0.8750 - val_loss: 0.4047 - val_accuracy: 0.7179\n",
            "Epoch 13/15\n",
            "25/25 [==============================] - 4s 176ms/step - loss: 0.3077 - accuracy: 0.8750 - val_loss: 0.3714 - val_accuracy: 0.8205\n",
            "Epoch 14/15\n",
            "25/25 [==============================] - 4s 172ms/step - loss: 0.2932 - accuracy: 0.8825 - val_loss: 0.3807 - val_accuracy: 0.7692\n",
            "Epoch 15/15\n",
            "25/25 [==============================] - 4s 173ms/step - loss: 0.2869 - accuracy: 0.8700 - val_loss: 1.1421 - val_accuracy: 0.7692\n"
          ],
          "name": "stdout"
        }
      ]
    },
    {
      "cell_type": "markdown",
      "metadata": {
        "id": "nejTDlerV6Kq",
        "colab_type": "text"
      },
      "source": [
        " **Save the Model**"
      ]
    },
    {
      "cell_type": "code",
      "metadata": {
        "id": "91ZAB7iVV9dp",
        "colab_type": "code",
        "colab": {}
      },
      "source": [
        "import pickle\n",
        "with open('history.pickle', 'wb') as f:\n",
        "     pickle.dump(history, f)"
      ],
      "execution_count": 0,
      "outputs": []
    },
    {
      "cell_type": "code",
      "metadata": {
        "id": "yyQI-gyeWQTa",
        "colab_type": "code",
        "outputId": "b6ab9b4d-081d-47ad-a4e3-c3a1e9545c99",
        "colab": {
          "base_uri": "https://localhost:8080/",
          "height": 34
        }
      },
      "source": [
        "import os\n",
        "os.listdir()"
      ],
      "execution_count": 0,
      "outputs": [
        {
          "output_type": "execute_result",
          "data": {
            "text/plain": [
              "['.config', 'drive', 'history.pickle', 'sample_data']"
            ]
          },
          "metadata": {
            "tags": []
          },
          "execution_count": 12
        }
      ]
    },
    {
      "cell_type": "code",
      "metadata": {
        "id": "AxUmSZBCWRKm",
        "colab_type": "code",
        "outputId": "532423ca-82cc-4b45-eda0-f4d58d485fc0",
        "colab": {
          "base_uri": "https://localhost:8080/",
          "height": 34
        }
      },
      "source": [
        "import pickle\n",
        "with open('history.pickle', 'rb') as f:\n",
        "     history = pickle.load(f)\n",
        "type(history)"
      ],
      "execution_count": 0,
      "outputs": [
        {
          "output_type": "execute_result",
          "data": {
            "text/plain": [
              "keras.callbacks.callbacks.History"
            ]
          },
          "metadata": {
            "tags": []
          },
          "execution_count": 13
        }
      ]
    },
    {
      "cell_type": "markdown",
      "metadata": {
        "id": "2OOtXNPAWiWW",
        "colab_type": "text"
      },
      "source": [
        "# **ROC**\n"
      ]
    },
    {
      "cell_type": "code",
      "metadata": {
        "id": "2s0bCKd8Wkac",
        "colab_type": "code",
        "colab": {}
      },
      "source": [
        "from sklearn.metrics import roc_curve\n",
        "y_pred_keras = model.predict(X_test).ravel()\n",
        "fpr_keras, tpr_keras, thresholds_keras = roc_curve(y_test, y_pred_keras)"
      ],
      "execution_count": 0,
      "outputs": []
    },
    {
      "cell_type": "code",
      "metadata": {
        "id": "NVZpu2V-WltP",
        "colab_type": "code",
        "colab": {}
      },
      "source": [
        "from sklearn.metrics import auc\n",
        "auc_keras = auc(fpr_keras, tpr_keras)"
      ],
      "execution_count": 0,
      "outputs": []
    },
    {
      "cell_type": "code",
      "metadata": {
        "id": "KaROEEHTWn0U",
        "colab_type": "code",
        "outputId": "5513fe64-f14c-462a-d623-355b4b3d075d",
        "colab": {
          "base_uri": "https://localhost:8080/",
          "height": 294
        }
      },
      "source": [
        "plt.plot([0, 1], [0, 1], 'k--')\n",
        "plt.plot(fpr_keras, tpr_keras, label='Keras (area = {:.3f})'.format(auc_keras))\n",
        "#plt.plot(fpr_rf, tpr_rf, label='RF (area = {:.3f})'.format(auc_rf))\n",
        "plt.xlabel('False positive rate')\n",
        "plt.ylabel('True positive rate')\n",
        "plt.title('ROC curve')\n",
        "plt.legend(loc='best')\n",
        "plt.show()"
      ],
      "execution_count": 0,
      "outputs": [
        {
          "output_type": "display_data",
          "data": {
            "image/png": "[encoded data removed]",
            "text/plain": [
              "<Figure size 432x288 with 1 Axes>"
            ]
          },
          "metadata": {
            "tags": [],
            "needs_background": "light"
          }
        }
      ]
    },
    {
      "cell_type": "markdown",
      "metadata": {
        "id": "10_TKbyGsa1H",
        "colab_type": "text"
      },
      "source": [
        "# **To Plot the Confusion Matrix**"
      ]
    },
    {
      "cell_type": "code",
      "metadata": {
        "id": "snFiH_yCdbNd",
        "colab_type": "code",
        "outputId": "290ac78b-d608-4a8a-93f8-63524d326c6c",
        "colab": {
          "base_uri": "https://localhost:8080/",
          "height": 72
        }
      },
      "source": [
        "import pandas as pd\n",
        "import seaborn as sns\n",
        "\n",
        "\n",
        "def plotErrorGraph(history, ep=30):\n",
        "\n",
        "    # Making the plot larger\n",
        "    plt.figure(figsize=(12, 8))\n",
        "\n",
        "    loss = history.history['loss']                          # Loss on the training data\n",
        "    val_loss = history.history['val_loss']                  # Loss on the validation data\n",
        "    epochs = range(1, ep+1)\n",
        "\n",
        "    plt.plot(epochs, loss, 'ro-', label='Training Loss')\n",
        "    plt.plot(epochs, val_loss, 'go-', label = 'Validation Loss')\n",
        "    plt.legend()\n",
        "    \n",
        "    \n",
        "def plotConfusionMatrix(y_test,pred):\n",
        "\n",
        "    pred = [1 if x>0.5 else 0 for x in pred]\n",
        "\n",
        "    # calculate confusion matrix\n",
        "    cm =  confusion_matrix(y_test,pred)\n",
        "    class_label = ['negative', 'positive']\n",
        "    df_conf_matrix = pd.DataFrame(cm, index=class_label, columns=class_label)\n",
        "    # heatmap --> Plot rectangular data as a color-encoded matrix. \n",
        "    sns.heatmap(df_conf_matrix, annot=True, fmt='d')\n",
        "    # give title to graph\n",
        "    plt.title(\"Confusion Matrix\")\n",
        "    # mention axis label\n",
        "    plt.xlabel(\"Predicted\")\n",
        "    plt.ylabel(\"Actual\")\n",
        "    # show the plot\n",
        "    plt.show()\n",
        "    print('TN = ', cm[0][0])\n",
        "    print('FP = ', cm[0][1])\n",
        "    print('FN = ', cm[1][0])\n",
        "    print('TP = ', cm[1][1])\n",
        "\n",
        "\n",
        "\n",
        "def recall_m(y_true, y_pred):\n",
        "        true_positives = K.sum(K.round(K.clip(y_true * y_pred, 0, 1)))\n",
        "        possible_positives = K.sum(K.round(K.clip(y_true, 0, 1)))\n",
        "        recall = true_positives / (possible_positives + K.epsilon())\n",
        "        return recall\n",
        "\n",
        "def precision_m(y_true, y_pred):\n",
        "        true_positives = K.sum(K.round(K.clip(y_true * y_pred, 0, 1)))\n",
        "        predicted_positives = K.sum(K.round(K.clip(y_pred, 0, 1)))\n",
        "        precision = true_positives / (predicted_positives + K.epsilon())\n",
        "        return precision\n",
        "\n",
        "def f1_m(y_true, y_pred):\n",
        "    precision = precision_m(y_true, y_pred)\n",
        "    recall = recall_m(y_true, y_pred)\n",
        "    return 2*((precision*recall)/(precision+recall+K.epsilon()))\n"
      ],
      "execution_count": 0,
      "outputs": [
        {
          "output_type": "stream",
          "text": [
            "/usr/local/lib/python3.6/dist-packages/statsmodels/tools/_testing.py:19: FutureWarning: pandas.util.testing is deprecated. Use the functions in the public API at pandas.testing instead.\n",
            "  import pandas.util.testing as tm\n"
          ],
          "name": "stderr"
        }
      ]
    },
    {
      "cell_type": "code",
      "metadata": {
        "id": "k4-ZJ8KYpcqh",
        "colab_type": "code",
        "outputId": "6cfb0e7f-a623-4fbc-a19b-5b1877e89c10",
        "colab": {
          "base_uri": "https://localhost:8080/",
          "height": 383
        }
      },
      "source": [
        "(loss, accuracy) = model.evaluate(X_test, y_test, batch_size=10, verbose=1)\n",
        "\n",
        "#print(\" accuracy: {:.4f}%\".format(loss,accuracy * 100))\n",
        "\n",
        "pred = model.predict(X_test)\n",
        "plotConfusionMatrix(y_test,pred)\n",
        "\n"
      ],
      "execution_count": 0,
      "outputs": [
        {
          "output_type": "stream",
          "text": [
            "38/38 [==============================] - 0s 5ms/step\n"
          ],
          "name": "stdout"
        },
        {
          "output_type": "display_data",
          "data": {
            "image/png": "[encoded data removed]",
            "text/plain": [
              "<Figure size 432x288 with 2 Axes>"
            ]
          },
          "metadata": {
            "tags": [],
            "needs_background": "light"
          }
        },
        {
          "output_type": "stream",
          "text": [
            "TN =  13\n",
            "FP =  2\n",
            "FN =  0\n",
            "TP =  23\n"
          ],
          "name": "stdout"
        }
      ]
    },
    {
      "cell_type": "code",
      "metadata": {
        "id": "OP8wO-q7qesY",
        "colab_type": "code",
        "colab": {}
      },
      "source": [
        "TN =  13\n",
        "FP =  2\n",
        "FN =  0\n",
        "TP =  23"
      ],
      "execution_count": 0,
      "outputs": []
    },
    {
      "cell_type": "markdown",
      "metadata": {
        "id": "WJIH2HEldljr",
        "colab_type": "text"
      },
      "source": [
        "## **Sensitivity**  :  When the actual value is positive, how often is the prediction correct?\n",
        "\n",
        "Also Known as True positive rate. "
      ]
    },
    {
      "cell_type": "code",
      "metadata": {
        "id": "EoamPzbvdgfD",
        "colab_type": "code",
        "outputId": "cb9e0ec3-7502-44c6-d63a-9c09ab976dab",
        "colab": {
          "base_uri": "https://localhost:8080/",
          "height": 34
        }
      },
      "source": [
        "sensitivity = (TP / float(FN + TP))*100\n",
        "\n",
        "print(sensitivity)\n"
      ],
      "execution_count": 0,
      "outputs": [
        {
          "output_type": "stream",
          "text": [
            "100.0\n"
          ],
          "name": "stdout"
        }
      ]
    },
    {
      "cell_type": "markdown",
      "metadata": {
        "id": "F-DcjIhId-pa",
        "colab_type": "text"
      },
      "source": [
        "## **Specificity** :  the actual value is negative, how often is the prediction correct?\n",
        "\n",
        "Also known as True Negative Rate"
      ]
    },
    {
      "cell_type": "code",
      "metadata": {
        "id": "TGcWLgsVeAMj",
        "colab_type": "code",
        "outputId": "98830f32-1dde-450f-f9a8-a43d2057f378",
        "colab": {
          "base_uri": "https://localhost:8080/",
          "height": 34
        }
      },
      "source": [
        "specificity = (TN / (TN + FP))*100\n",
        "\n",
        "print(specificity)"
      ],
      "execution_count": 0,
      "outputs": [
        {
          "output_type": "stream",
          "text": [
            "86.66666666666667\n"
          ],
          "name": "stdout"
        }
      ]
    },
    {
      "cell_type": "markdown",
      "metadata": {
        "id": "VKgUXwQKeJfn",
        "colab_type": "text"
      },
      "source": [
        "# **Accuracy**"
      ]
    },
    {
      "cell_type": "code",
      "metadata": {
        "id": "UMsfrhCaeCs-",
        "colab_type": "code",
        "outputId": "c4a72a93-3ffa-4e19-99aa-7e0a1c71e7a6",
        "colab": {
          "base_uri": "https://localhost:8080/",
          "height": 34
        }
      },
      "source": [
        "Accuracy = ( (TP+TN) / (TP+TN+FP+FN) ) * 100\n",
        "print(Accuracy)"
      ],
      "execution_count": 0,
      "outputs": [
        {
          "output_type": "stream",
          "text": [
            "94.73684210526315\n"
          ],
          "name": "stdout"
        }
      ]
    },
    {
      "cell_type": "markdown",
      "metadata": {
        "id": "3gjMHG0FqtEP",
        "colab_type": "text"
      },
      "source": [
        "# **Efficiency**"
      ]
    },
    {
      "cell_type": "code",
      "metadata": {
        "id": "AymabUT8eNdU",
        "colab_type": "code",
        "outputId": "35762561-9a1b-4fe1-d305-79044b6674f6",
        "colab": {
          "base_uri": "https://localhost:8080/",
          "height": 34
        }
      },
      "source": [
        "Efficiency = ( sensitivity + specificity + Accuracy ) / 3\n",
        "print(Efficiency)"
      ],
      "execution_count": 0,
      "outputs": [
        {
          "output_type": "stream",
          "text": [
            "93.80116959064328\n"
          ],
          "name": "stdout"
        }
      ]
    },
    {
      "cell_type": "markdown",
      "metadata": {
        "id": "2sgtrYRWrBKW",
        "colab_type": "text"
      },
      "source": [
        "## **Plot Loss & Accuracy**"
      ]
    },
    {
      "cell_type": "code",
      "metadata": {
        "id": "rUTaCBaSq60B",
        "colab_type": "code",
        "colab": {}
      },
      "source": [
        "history = model.history.history"
      ],
      "execution_count": 0,
      "outputs": []
    },
    {
      "cell_type": "code",
      "metadata": {
        "id": "hSJrhsZprFAJ",
        "colab_type": "code",
        "outputId": "f8b87fc1-257a-41c7-cfa1-ec49707fc87c",
        "colab": {
          "base_uri": "https://localhost:8080/",
          "height": 87
        }
      },
      "source": [
        "for key in history.keys():\n",
        "    print(key)"
      ],
      "execution_count": 0,
      "outputs": [
        {
          "output_type": "stream",
          "text": [
            "val_loss\n",
            "val_accuracy\n",
            "loss\n",
            "accuracy\n"
          ],
          "name": "stdout"
        }
      ]
    },
    {
      "cell_type": "code",
      "metadata": {
        "id": "cGs5_MeOrHM1",
        "colab_type": "code",
        "outputId": "f91f4524-e6ea-43a4-a90e-0a36bcc4feb8",
        "colab": {
          "base_uri": "https://localhost:8080/",
          "height": 544
        }
      },
      "source": [
        "def plot_metrics(history):\n",
        "    \n",
        "    train_loss = history['loss']\n",
        "    val_loss = history['val_loss']\n",
        "    train_acc = history['accuracy']\n",
        "    val_acc = history['val_accuracy']\n",
        "    \n",
        "    # Loss\n",
        "    plt.figure()\n",
        "    plt.plot(train_loss, label='Training Loss')\n",
        "    plt.plot(val_loss, label='Validation Loss')\n",
        "    plt.title('Loss')\n",
        "    plt.legend()\n",
        "    plt.show()\n",
        "    \n",
        "    # Accuracy\n",
        "    plt.figure()\n",
        "    plt.plot(train_acc, label='Training Accuracy')\n",
        "    plt.plot(val_acc, label='Validation Accuracy')\n",
        "    plt.title('Accuracy')\n",
        "    plt.legend()\n",
        "    plt.show()\n",
        "\n",
        "plot_metrics(history)"
      ],
      "execution_count": 0,
      "outputs": [
        {
          "output_type": "display_data",
          "data": {
            "image/png": "[encoded data removed]",
            "text/plain": [
              "<Figure size 432x288 with 1 Axes>"
            ]
          },
          "metadata": {
            "tags": [],
            "needs_background": "light"
          }
        },
        {
          "output_type": "display_data",
          "data": {
            "image/png": "[encoded data removed]",
            "text/plain": [
              "<Figure size 432x288 with 1 Axes>"
            ]
          },
          "metadata": {
            "tags": [],
            "needs_background": "light"
          }
        }
      ]
    },
    {
      "cell_type": "markdown",
      "metadata": {
        "id": "CIDON3lorZFd",
        "colab_type": "text"
      },
      "source": [
        "## **Test Accuracy**\n",
        "\n"
      ]
    },
    {
      "cell_type": "code",
      "metadata": {
        "id": "i1NX5KggrPZf",
        "colab_type": "code",
        "outputId": "eae5716f-921b-4937-fb3a-b2af22d61f24",
        "colab": {
          "base_uri": "https://localhost:8080/",
          "height": 34
        }
      },
      "source": [
        "loss, acc = model.evaluate(x=X_test, y=y_test)"
      ],
      "execution_count": 0,
      "outputs": [
        {
          "output_type": "stream",
          "text": [
            "38/38 [==============================] - 0s 783us/step\n"
          ],
          "name": "stdout"
        }
      ]
    },
    {
      "cell_type": "code",
      "metadata": {
        "id": "bcwj8QvHrgM2",
        "colab_type": "code",
        "outputId": "2d2c95cb-578a-4e0d-f611-bf08b37ba8ad",
        "colab": {
          "base_uri": "https://localhost:8080/",
          "height": 34
        }
      },
      "source": [
        "print (f\"Test Accuracy = {acc*100}\")"
      ],
      "execution_count": 0,
      "outputs": [
        {
          "output_type": "stream",
          "text": [
            "Test Accuracy = 94.73684430122375\n"
          ],
          "name": "stdout"
        }
      ]
    },
    {
      "cell_type": "markdown",
      "metadata": {
        "id": "QtUNKMGvrmtO",
        "colab_type": "text"
      },
      "source": [
        "# **Calculation of f1 score** "
      ]
    },
    {
      "cell_type": "code",
      "metadata": {
        "id": "xetE40nPriiJ",
        "colab_type": "code",
        "colab": {}
      },
      "source": [
        "def compute_f1_score(y_true, prob):\n",
        "    # convert the vector of probabilities to a target vector\n",
        "    y_pred = np.where(prob > 0.5, 1, 0)\n",
        "    \n",
        "    score = f1_score(y_true, y_pred)\n",
        "    \n",
        "    return score"
      ],
      "execution_count": 0,
      "outputs": []
    },
    {
      "cell_type": "markdown",
      "metadata": {
        "id": "X83Kf4IPrwbC",
        "colab_type": "text"
      },
      "source": [
        "# ***F1 score for the model on the testing data*** "
      ]
    },
    {
      "cell_type": "code",
      "metadata": {
        "id": "PbeKQozirqhP",
        "colab_type": "code",
        "colab": {}
      },
      "source": [
        "y_test_prob = model.predict(X_test)"
      ],
      "execution_count": 0,
      "outputs": []
    },
    {
      "cell_type": "code",
      "metadata": {
        "id": "gHEAvu6Or0aL",
        "colab_type": "code",
        "outputId": "fced011e-1d0d-494d-b427-2eef9ea4f125",
        "colab": {
          "base_uri": "https://localhost:8080/",
          "height": 34
        }
      },
      "source": [
        "f1score = compute_f1_score(y_test, y_test_prob)\n",
        "print(f\"F1 score: {f1score*100}\")"
      ],
      "execution_count": 0,
      "outputs": [
        {
          "output_type": "stream",
          "text": [
            "F1 score: 95.83333333333334\n"
          ],
          "name": "stdout"
        }
      ]
    },
    {
      "cell_type": "markdown",
      "metadata": {
        "id": "tjbNV4sHr5wj",
        "colab_type": "text"
      },
      "source": [
        "# ***F1 score for the  model on the validation data***"
      ]
    },
    {
      "cell_type": "code",
      "metadata": {
        "id": "oK4Fqja2r3Db",
        "colab_type": "code",
        "colab": {}
      },
      "source": [
        "y_val_prob = model.predict(X_val)"
      ],
      "execution_count": 0,
      "outputs": []
    },
    {
      "cell_type": "code",
      "metadata": {
        "id": "oGSY3dh_r_b8",
        "colab_type": "code",
        "outputId": "ef27f68f-deb6-4c75-c0f1-985a15e1436f",
        "colab": {
          "base_uri": "https://localhost:8080/",
          "height": 34
        }
      },
      "source": [
        "f1score_val = compute_f1_score(y_val, y_val_prob)\n",
        "print(f\"F1 score: {f1score_val*100}\")"
      ],
      "execution_count": 0,
      "outputs": [
        {
          "output_type": "stream",
          "text": [
            "F1 score: 89.79591836734694\n"
          ],
          "name": "stdout"
        }
      ]
    },
    {
      "cell_type": "markdown",
      "metadata": {
        "id": "dsxg0MAssEEt",
        "colab_type": "text"
      },
      "source": [
        "\n",
        "# **Prediction**"
      ]
    },
    {
      "cell_type": "code",
      "metadata": {
        "id": "gmkZ_z9vsBVW",
        "colab_type": "code",
        "outputId": "11852b9d-b042-44bf-e5d4-35351db2020e",
        "colab": {
          "base_uri": "https://localhost:8080/",
          "height": 52
        }
      },
      "source": [
        "import numpy as np\n",
        "from keras.preprocessing import image\n",
        "test_image = image.load_img('/content/drive/My Drive/Colab Notebooks/Dataset/YES/img100.png', target_size = (200,200))\n",
        "test_image.show()\n",
        "test_image = image.img_to_array(test_image)\n",
        "test_image = np.expand_dims(test_image, axis = 0)\n",
        "result = model.predict(test_image)\n",
        "print(result)\n",
        "train_generator.class_indices\n",
        "if result[0][0] == 1:\n",
        "  prediction = 'YES'\n",
        "else:\n",
        "  prediction = 'NO'\n",
        "\n",
        "print(prediction)"
      ],
      "execution_count": 0,
      "outputs": [
        {
          "output_type": "stream",
          "text": [
            "[[1.]]\n",
            "YES\n"
          ],
          "name": "stdout"
        }
      ]
    },
    {
      "cell_type": "markdown",
      "metadata": {
        "id": "8pRpyJ9CR5kB",
        "colab_type": "text"
      },
      "source": [
        "# **T-SNE**"
      ]
    }
  ]
}